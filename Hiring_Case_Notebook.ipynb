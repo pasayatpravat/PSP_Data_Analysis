{
 "cells": [
  {
   "cell_type": "markdown",
   "metadata": {},
   "source": [
    "# A small emergency\n",
    "\n",
    "It's 10 in the morning and you're dipping our fresh croissants into a hot cappuccino, when an account manager runs to your desk. It seems like one of our big merchants, 'Not A Taxi Company LTD.', is having some troubles with processing payments from their customers, leading many of these customers to take the 'Not A Taxi', but accidentally not being charged.\n",
    "\n",
    "For this question, **you'll need to know how the basic payment flow looks like**. \n",
    "\n",
    "So let me explain:\n",
    "\n",
    "When a customer takes a 'Not A Taxi', they swipe their credit card on the on-board terminal. This terminal is connected to our system, which in turn is connected to the credit card companies. If you have enough money on your account, the payment is approved and you start your ride. This is the **authorization**. At this point the payment is 'Authorized'\n",
    "\n",
    "The actual money is, however, collected a bit later - **usually a few hours**, but it could be up to 28 days! This step is called the **clearing**. Only after the money has actually been cleared, your bank pays us, and we pay it out to 'Not A Taxi Company LTD.' The payment becomes 'Cleared'. <br> If this doesn't work out, the payment is logged as 'Clearing failed'.\n",
    "\n",
    "In this case, the authorization is succesful - and so the customer rides happily into the sunset. But, a few days later, the clearing has failed and 'Not A Taxi' still hasn't received their hard-earned money - because the payment never went from 'Authorized' to 'Cleared'! <br> Obviously, they angrily call the account manager demanding answers. And that's why your Cappuccino and Croissant moment is cut short: time to solve this problem!"
   ]
  },
  {
   "cell_type": "markdown",
   "metadata": {},
   "source": [
    "## Here's your data"
   ]
  },
  {
   "cell_type": "markdown",
   "metadata": {},
   "source": [
    "Look into the \"data\" folder we sent you. You'll find three files:\n",
    "\n",
    "1. \"_transactions.csv_\" is a list of **all transactions 'Not A Taxi Company' processed through My_PSP last week.**. You'll need this for questions 1 and 2.\n",
    "2. \"_bintable.csv_\" is an **outline of our BIN mapping**. But what is a BIN? Easy enough: the BIN are the **first six digits** of your card number. <br> A BIN table will therefore have informations about your card. It is very useful to debug what went wrong in the payment flow, without needing to know the entire card number. You'll need this for question 2.\n",
    "3. \"rates.csv\" is a summary of the rates that our taxi companies pay per transaction. You'll need this for question 3"
   ]
  },
  {
   "cell_type": "markdown",
   "metadata": {},
   "source": [
    "Finally, to give you a bit more context, let's look at bintable.csv, which you'll need for context as well as for question 2"
   ]
  },
  {
   "cell_type": "code",
   "execution_count": 1,
   "metadata": {},
   "outputs": [
    {
     "data": {
      "text/html": [
       "<div>\n",
       "<style scoped>\n",
       "    .dataframe tbody tr th:only-of-type {\n",
       "        vertical-align: middle;\n",
       "    }\n",
       "\n",
       "    .dataframe tbody tr th {\n",
       "        vertical-align: top;\n",
       "    }\n",
       "\n",
       "    .dataframe thead th {\n",
       "        text-align: right;\n",
       "    }\n",
       "</style>\n",
       "<table border=\"1\" class=\"dataframe\">\n",
       "  <thead>\n",
       "    <tr style=\"text-align: right;\">\n",
       "      <th></th>\n",
       "      <th>BIN</th>\n",
       "      <th>Product types</th>\n",
       "      <th>Scheme</th>\n",
       "      <th>Enrolled in Secure3D</th>\n",
       "      <th>Dual Branded</th>\n",
       "    </tr>\n",
       "  </thead>\n",
       "  <tbody>\n",
       "    <tr>\n",
       "      <th>0</th>\n",
       "      <td>273209</td>\n",
       "      <td>[\"CP_Credit\"]</td>\n",
       "      <td>ChinaPay</td>\n",
       "      <td>YES</td>\n",
       "      <td>NO</td>\n",
       "    </tr>\n",
       "    <tr>\n",
       "      <th>1</th>\n",
       "      <td>457469</td>\n",
       "      <td>[\"Viza_Super\"]</td>\n",
       "      <td>VIZA</td>\n",
       "      <td>YES</td>\n",
       "      <td>NO</td>\n",
       "    </tr>\n",
       "  </tbody>\n",
       "</table>\n",
       "</div>"
      ],
      "text/plain": [
       "      BIN   Product types    Scheme Enrolled in Secure3D Dual Branded\n",
       "0  273209   [\"CP_Credit\"]  ChinaPay                  YES           NO\n",
       "1  457469  [\"Viza_Super\"]      VIZA                  YES           NO"
      ]
     },
     "execution_count": 1,
     "metadata": {},
     "output_type": "execute_result"
    }
   ],
   "source": [
    "import pandas as pd\n",
    "\n",
    "pd.read_csv(\"data/bintable.csv\").head(2)"
   ]
  },
  {
   "cell_type": "markdown",
   "metadata": {},
   "source": [
    "* **BIN**: the first six digits of the Card Number on a transactions level.\n",
    "* **Product types**: a certain BIN can have multiple card products - indeed, some credit cards are 'Dual Branded', which means they could be processed as either of the Card products in the 'product types' list. This list is formatted in JSON.\n",
    "* **Scheme**: this is the company that is processing the Card.\n",
    "* **Enrolled in Secure3D**: some transactions can have an extra layer of security. For a Secure3D transactions to work, the BIN needs to be enrolled (YES) and the Secure3D authentication also needs to be Used at transactional level.\n",
    "* **Dual Branded**: this is an indicator on whether this BIN has only one product type (NO) or multiple product types (YES)."
   ]
  },
  {
   "cell_type": "markdown",
   "metadata": {},
   "source": [
    "let's look at transactions.csv, which you'll need for question 1 and 2"
   ]
  },
  {
   "cell_type": "code",
   "execution_count": 2,
   "metadata": {},
   "outputs": [
    {
     "data": {
      "text/html": [
       "<div>\n",
       "<style scoped>\n",
       "    .dataframe tbody tr th:only-of-type {\n",
       "        vertical-align: middle;\n",
       "    }\n",
       "\n",
       "    .dataframe tbody tr th {\n",
       "        vertical-align: top;\n",
       "    }\n",
       "\n",
       "    .dataframe thead th {\n",
       "        text-align: right;\n",
       "    }\n",
       "</style>\n",
       "<table border=\"1\" class=\"dataframe\">\n",
       "  <thead>\n",
       "    <tr style=\"text-align: right;\">\n",
       "      <th></th>\n",
       "      <th>Transaction ID</th>\n",
       "      <th>Card Number (obfuscated)</th>\n",
       "      <th>Processed Card Scheme</th>\n",
       "      <th>Processed Card Product</th>\n",
       "      <th>Used Secure3D</th>\n",
       "      <th>Authorization time</th>\n",
       "      <th>Transaction amount</th>\n",
       "      <th>Status</th>\n",
       "      <th>Error Code</th>\n",
       "    </tr>\n",
       "  </thead>\n",
       "  <tbody>\n",
       "    <tr>\n",
       "      <th>0</th>\n",
       "      <td>310136972</td>\n",
       "      <td>390894......5010</td>\n",
       "      <td>Masterkard</td>\n",
       "      <td>MK_Debit</td>\n",
       "      <td>NO</td>\n",
       "      <td>2019-01-01 17:16:49</td>\n",
       "      <td>192.76</td>\n",
       "      <td>Cleared</td>\n",
       "      <td>NaN</td>\n",
       "    </tr>\n",
       "  </tbody>\n",
       "</table>\n",
       "</div>"
      ],
      "text/plain": [
       "   Transaction ID Card Number (obfuscated) Processed Card Scheme  \\\n",
       "0       310136972         390894......5010            Masterkard   \n",
       "\n",
       "  Processed Card Product Used Secure3D   Authorization time  \\\n",
       "0               MK_Debit            NO  2019-01-01 17:16:49   \n",
       "\n",
       "   Transaction amount   Status Error Code  \n",
       "0              192.76  Cleared        NaN  "
      ]
     },
     "execution_count": 2,
     "metadata": {},
     "output_type": "execute_result"
    }
   ],
   "source": [
    "pd.read_csv(\"data/transactions.csv\").head(1)"
   ]
  },
  {
   "cell_type": "markdown",
   "metadata": {},
   "source": [
    "* **Transaction ID**: an unique identifier in our system for this transaction\n",
    "* **Card Number (obfuscated)**: the first six and last four digits of a card number\n",
    "* **Processed Card Scheme**: one of the many card providers mypsp works with\n",
    "* **Processed Card Product**: Card schemes offer many products. This is the product that is associated with a given transaction\n",
    "* **Used Secure3d**: whether the transaction used an extra layer of security\n",
    "* **Transaction amount**: the price paid by the shopper to Not A Taxi Company LTD.\n",
    "* **Status**: either 'Cleared' (OK), or 'Clearing_failed' (NOT OK!)\n",
    "* **Error code**: A response from the Card Scheme when the status is 'Clearing_failed', which can help you pinpoint any issues"
   ]
  },
  {
   "cell_type": "markdown",
   "metadata": {},
   "source": [
    "Finally, let's look at 'rates.csv', which you need for question 3:"
   ]
  },
  {
   "cell_type": "code",
   "execution_count": 3,
   "metadata": {},
   "outputs": [
    {
     "data": {
      "text/html": [
       "<div>\n",
       "<style scoped>\n",
       "    .dataframe tbody tr th:only-of-type {\n",
       "        vertical-align: middle;\n",
       "    }\n",
       "\n",
       "    .dataframe tbody tr th {\n",
       "        vertical-align: top;\n",
       "    }\n",
       "\n",
       "    .dataframe thead th {\n",
       "        text-align: right;\n",
       "    }\n",
       "</style>\n",
       "<table border=\"1\" class=\"dataframe\">\n",
       "  <thead>\n",
       "    <tr style=\"text-align: right;\">\n",
       "      <th></th>\n",
       "      <th>Processed Card Product</th>\n",
       "      <th>Processed Card Scheme</th>\n",
       "      <th>Transaction amount</th>\n",
       "      <th>Rate percent</th>\n",
       "      <th>Rate amount</th>\n",
       "    </tr>\n",
       "  </thead>\n",
       "  <tbody>\n",
       "    <tr>\n",
       "      <th>0</th>\n",
       "      <td>MK_Debit</td>\n",
       "      <td>Masterkard</td>\n",
       "      <td>451.68</td>\n",
       "      <td>0.5</td>\n",
       "      <td>2.3</td>\n",
       "    </tr>\n",
       "  </tbody>\n",
       "</table>\n",
       "</div>"
      ],
      "text/plain": [
       "  Processed Card Product Processed Card Scheme  Transaction amount  \\\n",
       "0               MK_Debit            Masterkard              451.68   \n",
       "\n",
       "   Rate percent  Rate amount  \n",
       "0           0.5          2.3  "
      ]
     },
     "execution_count": 3,
     "metadata": {},
     "output_type": "execute_result"
    }
   ],
   "source": [
    "pd.read_csv(\"data/rates.csv\").head(1)"
   ]
  },
  {
   "cell_type": "markdown",
   "metadata": {},
   "source": [
    "You have the same columns as in transactions.csv, plus:\n",
    "* **Rate percent**: the percentage amount that was paid to the Card Schemes. This is a cost for Not A Taxi Company LTD. The Card Schemes have various rates for different Card Products - and sometimes multiple rates for the same card product!.\n",
    "* **Rate amount**: the corresponding fee in euro paid to the Card Schemes for the transactions. It's calculated as ```Transaction amount * Rate percent```"
   ]
  },
  {
   "cell_type": "markdown",
   "metadata": {},
   "source": [
    "## Question 1: data-driven analysis"
   ]
  },
  {
   "cell_type": "markdown",
   "metadata": {},
   "source": [
    "With this question, we want to see:\n",
    "* how you cope with quick data analysis\n",
    "* that you're able to quickly assess magnitude and scale of a given problem\n",
    "\n",
    "**Please use the data provided to quantify the transactions we haven't correctly cleared for 'Not A Taxi Company LTD.' for the provided period. \n",
    "Is the problem getting better, or worse? _What is the impact?_**\n",
    "\n",
    "This question should be a quick one: it's a preliminary analysis, so while accuracy is important, you should be more focused in seeing if this problem needs to be solved now, or can be postponed to later.\n",
    "\n",
    "**Write a short e-mail to a colleague presenting the issue and why you'd need to act upon it, and find a solution - fast.**"
   ]
  },
  {
   "cell_type": "markdown",
   "metadata": {},
   "source": [
    "## <font color='blue'> Question 1: Answer </font>"
   ]
  },
  {
   "cell_type": "markdown",
   "metadata": {},
   "source": [
    "### <font color='blue'> Import necessary python libraries </font>"
   ]
  },
  {
   "cell_type": "code",
   "execution_count": 4,
   "metadata": {},
   "outputs": [],
   "source": [
    "import pandas as pd\n",
    "import numpy as np\n",
    "import matplotlib.pyplot as plt\n",
    "import seaborn as sns\n",
    "\n",
    "sns.set()"
   ]
  },
  {
   "cell_type": "markdown",
   "metadata": {},
   "source": [
    "### <font color='blue'> Extract the transactions data from the file </font>"
   ]
  },
  {
   "cell_type": "markdown",
   "metadata": {},
   "source": [
    "Let's extract the transactional data from the transactions.csv file. The data will give us an idea about successful and failed cleared transactions and their details."
   ]
  },
  {
   "cell_type": "code",
   "execution_count": 5,
   "metadata": {},
   "outputs": [
    {
     "data": {
      "text/html": [
       "<div>\n",
       "<style scoped>\n",
       "    .dataframe tbody tr th:only-of-type {\n",
       "        vertical-align: middle;\n",
       "    }\n",
       "\n",
       "    .dataframe tbody tr th {\n",
       "        vertical-align: top;\n",
       "    }\n",
       "\n",
       "    .dataframe thead th {\n",
       "        text-align: right;\n",
       "    }\n",
       "</style>\n",
       "<table border=\"1\" class=\"dataframe\">\n",
       "  <thead>\n",
       "    <tr style=\"text-align: right;\">\n",
       "      <th></th>\n",
       "      <th>Transaction ID</th>\n",
       "      <th>Card Number (obfuscated)</th>\n",
       "      <th>Processed Card Scheme</th>\n",
       "      <th>Processed Card Product</th>\n",
       "      <th>Used Secure3D</th>\n",
       "      <th>Authorization time</th>\n",
       "      <th>Transaction amount</th>\n",
       "      <th>Status</th>\n",
       "      <th>Error Code</th>\n",
       "    </tr>\n",
       "  </thead>\n",
       "  <tbody>\n",
       "    <tr>\n",
       "      <th>0</th>\n",
       "      <td>310136972</td>\n",
       "      <td>390894......5010</td>\n",
       "      <td>Masterkard</td>\n",
       "      <td>MK_Debit</td>\n",
       "      <td>NO</td>\n",
       "      <td>2019-01-01 17:16:49</td>\n",
       "      <td>192.76</td>\n",
       "      <td>Cleared</td>\n",
       "      <td>NaN</td>\n",
       "    </tr>\n",
       "    <tr>\n",
       "      <th>1</th>\n",
       "      <td>314127106</td>\n",
       "      <td>236786......444</td>\n",
       "      <td>ChinaPay</td>\n",
       "      <td>CP_Debit</td>\n",
       "      <td>YES</td>\n",
       "      <td>2019-01-05 22:08:46</td>\n",
       "      <td>230.36</td>\n",
       "      <td>Cleared</td>\n",
       "      <td>NaN</td>\n",
       "    </tr>\n",
       "  </tbody>\n",
       "</table>\n",
       "</div>"
      ],
      "text/plain": [
       "   Transaction ID Card Number (obfuscated) Processed Card Scheme  \\\n",
       "0       310136972         390894......5010            Masterkard   \n",
       "1       314127106          236786......444              ChinaPay   \n",
       "\n",
       "  Processed Card Product Used Secure3D  Authorization time  \\\n",
       "0               MK_Debit            NO 2019-01-01 17:16:49   \n",
       "1               CP_Debit           YES 2019-01-05 22:08:46   \n",
       "\n",
       "   Transaction amount   Status Error Code  \n",
       "0              192.76  Cleared        NaN  \n",
       "1              230.36  Cleared        NaN  "
      ]
     },
     "execution_count": 5,
     "metadata": {},
     "output_type": "execute_result"
    }
   ],
   "source": [
    "# Data from the transaction file\n",
    "transactions_data = pd.read_csv(\n",
    "    \"data/transactions.csv\", parse_dates=[\"Authorization time\"]\n",
    ")\n",
    "\n",
    "# See the data frame\n",
    "transactions_data.head(2)"
   ]
  },
  {
   "cell_type": "code",
   "execution_count": 6,
   "metadata": {},
   "outputs": [
    {
     "data": {
      "text/plain": [
       "Transaction ID                       int64\n",
       "Card Number (obfuscated)            object\n",
       "Processed Card Scheme               object\n",
       "Processed Card Product              object\n",
       "Used Secure3D                       object\n",
       "Authorization time          datetime64[ns]\n",
       "Transaction amount                 float64\n",
       "Status                              object\n",
       "Error Code                          object\n",
       "dtype: object"
      ]
     },
     "execution_count": 6,
     "metadata": {},
     "output_type": "execute_result"
    }
   ],
   "source": [
    "# Datatypes of the columns\n",
    "transactions_data.dtypes"
   ]
  },
  {
   "cell_type": "code",
   "execution_count": 7,
   "metadata": {},
   "outputs": [
    {
     "data": {
      "text/plain": [
       "Transaction ID                   0\n",
       "Card Number (obfuscated)         0\n",
       "Processed Card Scheme            0\n",
       "Processed Card Product           0\n",
       "Used Secure3D                    0\n",
       "Authorization time               0\n",
       "Transaction amount               0\n",
       "Status                           0\n",
       "Error Code                  101000\n",
       "dtype: int64"
      ]
     },
     "execution_count": 7,
     "metadata": {},
     "output_type": "execute_result"
    }
   ],
   "source": [
    "# Check the completeness of the data (Data sanity)\n",
    "transactions_data.isnull().sum()"
   ]
  },
  {
   "cell_type": "markdown",
   "metadata": {},
   "source": [
    "NOTE: The NaN/Null values in the 'Error Code' field corresponds to the transactions that are successful. Hence there is no error in the process."
   ]
  },
  {
   "cell_type": "markdown",
   "metadata": {},
   "source": [
    "### <font color='blue'> Feature extraction </font>"
   ]
  },
  {
   "cell_type": "markdown",
   "metadata": {},
   "source": [
    "We can extract few new features such as 'Authorization day' and 'BIN' from existing features. These new features will be very useful for future analysis."
   ]
  },
  {
   "cell_type": "code",
   "execution_count": 8,
   "metadata": {},
   "outputs": [
    {
     "data": {
      "text/html": [
       "<div>\n",
       "<style scoped>\n",
       "    .dataframe tbody tr th:only-of-type {\n",
       "        vertical-align: middle;\n",
       "    }\n",
       "\n",
       "    .dataframe tbody tr th {\n",
       "        vertical-align: top;\n",
       "    }\n",
       "\n",
       "    .dataframe thead th {\n",
       "        text-align: right;\n",
       "    }\n",
       "</style>\n",
       "<table border=\"1\" class=\"dataframe\">\n",
       "  <thead>\n",
       "    <tr style=\"text-align: right;\">\n",
       "      <th></th>\n",
       "      <th>Transaction ID</th>\n",
       "      <th>Card Number (obfuscated)</th>\n",
       "      <th>Processed Card Scheme</th>\n",
       "      <th>Processed Card Product</th>\n",
       "      <th>Used Secure3D</th>\n",
       "      <th>Authorization time</th>\n",
       "      <th>Transaction amount</th>\n",
       "      <th>Status</th>\n",
       "      <th>Error Code</th>\n",
       "      <th>Authorization day</th>\n",
       "      <th>BIN</th>\n",
       "    </tr>\n",
       "  </thead>\n",
       "  <tbody>\n",
       "    <tr>\n",
       "      <th>0</th>\n",
       "      <td>310136972</td>\n",
       "      <td>390894......5010</td>\n",
       "      <td>Masterkard</td>\n",
       "      <td>MK_Debit</td>\n",
       "      <td>NO</td>\n",
       "      <td>2019-01-01 17:16:49</td>\n",
       "      <td>192.76</td>\n",
       "      <td>Cleared</td>\n",
       "      <td>NaN</td>\n",
       "      <td>1</td>\n",
       "      <td>390894</td>\n",
       "    </tr>\n",
       "    <tr>\n",
       "      <th>1</th>\n",
       "      <td>314127106</td>\n",
       "      <td>236786......444</td>\n",
       "      <td>ChinaPay</td>\n",
       "      <td>CP_Debit</td>\n",
       "      <td>YES</td>\n",
       "      <td>2019-01-05 22:08:46</td>\n",
       "      <td>230.36</td>\n",
       "      <td>Cleared</td>\n",
       "      <td>NaN</td>\n",
       "      <td>5</td>\n",
       "      <td>236786</td>\n",
       "    </tr>\n",
       "    <tr>\n",
       "      <th>2</th>\n",
       "      <td>316026078</td>\n",
       "      <td>233199......8244</td>\n",
       "      <td>ChinaPay</td>\n",
       "      <td>CP_QR</td>\n",
       "      <td>YES</td>\n",
       "      <td>2019-01-07 22:33:51</td>\n",
       "      <td>306.97</td>\n",
       "      <td>Clearing_failed</td>\n",
       "      <td>CP_98_TX_VALUE_TOO_HIGH_FOR_CARD_SCHEME</td>\n",
       "      <td>7</td>\n",
       "      <td>233199</td>\n",
       "    </tr>\n",
       "    <tr>\n",
       "      <th>3</th>\n",
       "      <td>318604383</td>\n",
       "      <td>550282......6368</td>\n",
       "      <td>Masterkard</td>\n",
       "      <td>MK_Credit</td>\n",
       "      <td>NO</td>\n",
       "      <td>2019-01-10 16:02:31</td>\n",
       "      <td>365.75</td>\n",
       "      <td>Cleared</td>\n",
       "      <td>NaN</td>\n",
       "      <td>10</td>\n",
       "      <td>550282</td>\n",
       "    </tr>\n",
       "    <tr>\n",
       "      <th>4</th>\n",
       "      <td>314205307</td>\n",
       "      <td>425306......393</td>\n",
       "      <td>VIZA</td>\n",
       "      <td>VIZA_Debit</td>\n",
       "      <td>YES</td>\n",
       "      <td>2019-01-06 00:11:14</td>\n",
       "      <td>578.66</td>\n",
       "      <td>Clearing_failed</td>\n",
       "      <td>VI_85_PROCESSING_SECURE_3DTRANSACTION_WAS_NOT_...</td>\n",
       "      <td>6</td>\n",
       "      <td>425306</td>\n",
       "    </tr>\n",
       "  </tbody>\n",
       "</table>\n",
       "</div>"
      ],
      "text/plain": [
       "   Transaction ID Card Number (obfuscated) Processed Card Scheme  \\\n",
       "0       310136972         390894......5010            Masterkard   \n",
       "1       314127106          236786......444              ChinaPay   \n",
       "2       316026078         233199......8244              ChinaPay   \n",
       "3       318604383         550282......6368            Masterkard   \n",
       "4       314205307          425306......393                  VIZA   \n",
       "\n",
       "  Processed Card Product Used Secure3D  Authorization time  \\\n",
       "0               MK_Debit            NO 2019-01-01 17:16:49   \n",
       "1               CP_Debit           YES 2019-01-05 22:08:46   \n",
       "2                  CP_QR           YES 2019-01-07 22:33:51   \n",
       "3              MK_Credit            NO 2019-01-10 16:02:31   \n",
       "4             VIZA_Debit           YES 2019-01-06 00:11:14   \n",
       "\n",
       "   Transaction amount           Status  \\\n",
       "0              192.76          Cleared   \n",
       "1              230.36          Cleared   \n",
       "2              306.97  Clearing_failed   \n",
       "3              365.75          Cleared   \n",
       "4              578.66  Clearing_failed   \n",
       "\n",
       "                                          Error Code  Authorization day  \\\n",
       "0                                                NaN                  1   \n",
       "1                                                NaN                  5   \n",
       "2            CP_98_TX_VALUE_TOO_HIGH_FOR_CARD_SCHEME                  7   \n",
       "3                                                NaN                 10   \n",
       "4  VI_85_PROCESSING_SECURE_3DTRANSACTION_WAS_NOT_...                  6   \n",
       "\n",
       "      BIN  \n",
       "0  390894  \n",
       "1  236786  \n",
       "2  233199  \n",
       "3  550282  \n",
       "4  425306  "
      ]
     },
     "execution_count": 8,
     "metadata": {},
     "output_type": "execute_result"
    }
   ],
   "source": [
    "# Create a new column for authorization day\n",
    "transactions_data[\"Authorization day\"] = transactions_data[\"Authorization time\"].dt.day\n",
    "\n",
    "# Create a new column for BIN\n",
    "transactions_data[\"BIN\"] = (\n",
    "    transactions_data[\"Card Number (obfuscated)\"].str.slice(0, 6).astype(int)\n",
    ")\n",
    "\n",
    "transactions_data.head()"
   ]
  },
  {
   "cell_type": "markdown",
   "metadata": {},
   "source": [
    "### <font color='blue'> Assess magnitude and scale of the given problem </font>"
   ]
  },
  {
   "cell_type": "markdown",
   "metadata": {},
   "source": [
    "During this analysis, we will mainly focus on below aspects.\n",
    "\n",
    "* How many transactions failed during the clearing process? (Number and percentage)\n",
    "* How much money has been unaccounted or lost due to the failed clearing process? (Amount and percentage)"
   ]
  },
  {
   "cell_type": "code",
   "execution_count": 9,
   "metadata": {},
   "outputs": [
    {
     "name": "stdout",
     "output_type": "stream",
     "text": [
      "Number (#) of failed clearing transactions =  9000\n",
      "Percentage (%) of failed clearing transactions =  8.18\n",
      "Amount (#) of unaccounted money from failed clearing transactions in Euros =  2536999.14\n",
      "Percentage (%) of unaccounted money due to failed clearing transactions =  11.58\n"
     ]
    }
   ],
   "source": [
    "print(\n",
    "    \"Number (#) of failed clearing transactions = \",\n",
    "    sum(transactions_data[\"Status\"] == \"Clearing_failed\"),\n",
    ")\n",
    "\n",
    "print(\n",
    "    \"Percentage (%) of failed clearing transactions = \",\n",
    "    round(\n",
    "        sum(transactions_data[\"Status\"] == \"Clearing_failed\")\n",
    "        / transactions_data.shape[0]\n",
    "        * 100,\n",
    "        2,\n",
    "    ),\n",
    ")\n",
    "\n",
    "print(\n",
    "    \"Amount (#) of unaccounted money from failed clearing transactions in Euros = \",\n",
    "    round(\n",
    "        sum(\n",
    "            transactions_data[transactions_data.Status == \"Clearing_failed\"][\n",
    "                \"Transaction amount\"\n",
    "            ]\n",
    "        ),\n",
    "        2,\n",
    "    ),\n",
    ")\n",
    "\n",
    "print(\n",
    "    \"Percentage (%) of unaccounted money due to failed clearing transactions = \",\n",
    "    round(\n",
    "        sum(\n",
    "            transactions_data[transactions_data.Status == \"Clearing_failed\"][\n",
    "                \"Transaction amount\"\n",
    "            ]\n",
    "        )\n",
    "        / sum(transactions_data[\"Transaction amount\"])\n",
    "        * 100,\n",
    "        2,\n",
    "    ),\n",
    ")"
   ]
  },
  {
   "cell_type": "code",
   "execution_count": 10,
   "metadata": {},
   "outputs": [
    {
     "data": {
      "text/plain": [
       "110000"
      ]
     },
     "execution_count": 10,
     "metadata": {},
     "output_type": "execute_result"
    }
   ],
   "source": [
    "transactions_data.shape[0]"
   ]
  },
  {
   "cell_type": "markdown",
   "metadata": {},
   "source": [
    "### <font color='blue'> Remove partially captured data from different days </font>"
   ]
  },
  {
   "cell_type": "code",
   "execution_count": 12,
   "metadata": {},
   "outputs": [
    {
     "name": "stdout",
     "output_type": "stream",
     "text": [
      "Earliest transaction time =   2019-01-01 13:44:02\n",
      "Latest transaction time =   2019-01-12 03:32:10\n"
     ]
    }
   ],
   "source": [
    "print(\"Earliest transaction time =  \", transactions_data[\"Authorization time\"].min())\n",
    "print(\"Latest transaction time =  \", transactions_data[\"Authorization time\"].max())"
   ]
  },
  {
   "cell_type": "markdown",
   "metadata": {},
   "source": [
    "NOTE: Looking the timestamps of the earliest and latest transaction authorization time, it seems that full day data hasn't been captured on '2019-01-01' and on '2019-01-12'. This might incorrectly show the day wise comparison/progress of monetary losses and number of failed clearing transactions. In order to come up with unbiased or incorrect judgement, we can exclude transactions on these two days from our data."
   ]
  },
  {
   "cell_type": "code",
   "execution_count": 13,
   "metadata": {},
   "outputs": [
    {
     "name": "stdout",
     "output_type": "stream",
     "text": [
      "Earliest transaction time (cleaned data) =   2019-01-02 00:00:13\n",
      "Latest transaction time (cleaned data) =   2019-01-11 23:59:39\n"
     ]
    }
   ],
   "source": [
    "# Create a new dataframe which doesn't contain the transactions from earliest and the latest transaction days\n",
    "transactions_data_cleaned = transactions_data[\n",
    "    (transactions_data[\"Authorization day\"] != 1)\n",
    "    & (transactions_data[\"Authorization day\"] != 12)\n",
    "]\n",
    "\n",
    "print(\n",
    "    \"Earliest transaction time (cleaned data) =  \",\n",
    "    transactions_data_cleaned[\"Authorization time\"].min(),\n",
    ")\n",
    "print(\n",
    "    \"Latest transaction time (cleaned data) =  \",\n",
    "    transactions_data_cleaned[\"Authorization time\"].max(),\n",
    ")"
   ]
  },
  {
   "cell_type": "markdown",
   "metadata": {},
   "source": [
    "### <font color='blue'> Is the problem getting better, or worse? What is the impact? </font>"
   ]
  },
  {
   "cell_type": "markdown",
   "metadata": {},
   "source": [
    "In this analysis, we want to see if this problem is getting better or worse day by day. We can do this by comparing the number of failed clearing transactions and respective monetary losses on a day to day basis.\n",
    "\n",
    "Visualization (Scattered plot or Bar plot) would be nice have."
   ]
  },
  {
   "cell_type": "code",
   "execution_count": 14,
   "metadata": {},
   "outputs": [
    {
     "data": {
      "text/html": [
       "<div>\n",
       "<style scoped>\n",
       "    .dataframe tbody tr th:only-of-type {\n",
       "        vertical-align: middle;\n",
       "    }\n",
       "\n",
       "    .dataframe tbody tr th {\n",
       "        vertical-align: top;\n",
       "    }\n",
       "\n",
       "    .dataframe thead th {\n",
       "        text-align: right;\n",
       "    }\n",
       "</style>\n",
       "<table border=\"1\" class=\"dataframe\">\n",
       "  <thead>\n",
       "    <tr style=\"text-align: right;\">\n",
       "      <th></th>\n",
       "      <th>Authorization day</th>\n",
       "      <th>Failed transactions count</th>\n",
       "      <th>Uncleared transaction amount</th>\n",
       "    </tr>\n",
       "  </thead>\n",
       "  <tbody>\n",
       "    <tr>\n",
       "      <th>0</th>\n",
       "      <td>2</td>\n",
       "      <td>344</td>\n",
       "      <td>147468.76</td>\n",
       "    </tr>\n",
       "    <tr>\n",
       "      <th>1</th>\n",
       "      <td>3</td>\n",
       "      <td>316</td>\n",
       "      <td>134170.90</td>\n",
       "    </tr>\n",
       "    <tr>\n",
       "      <th>2</th>\n",
       "      <td>4</td>\n",
       "      <td>808</td>\n",
       "      <td>233334.06</td>\n",
       "    </tr>\n",
       "    <tr>\n",
       "      <th>3</th>\n",
       "      <td>5</td>\n",
       "      <td>869</td>\n",
       "      <td>246702.68</td>\n",
       "    </tr>\n",
       "    <tr>\n",
       "      <th>4</th>\n",
       "      <td>6</td>\n",
       "      <td>855</td>\n",
       "      <td>255950.65</td>\n",
       "    </tr>\n",
       "    <tr>\n",
       "      <th>5</th>\n",
       "      <td>7</td>\n",
       "      <td>1130</td>\n",
       "      <td>289921.34</td>\n",
       "    </tr>\n",
       "    <tr>\n",
       "      <th>6</th>\n",
       "      <td>8</td>\n",
       "      <td>1118</td>\n",
       "      <td>288918.89</td>\n",
       "    </tr>\n",
       "    <tr>\n",
       "      <th>7</th>\n",
       "      <td>9</td>\n",
       "      <td>1121</td>\n",
       "      <td>302233.13</td>\n",
       "    </tr>\n",
       "    <tr>\n",
       "      <th>8</th>\n",
       "      <td>10</td>\n",
       "      <td>1115</td>\n",
       "      <td>290613.00</td>\n",
       "    </tr>\n",
       "    <tr>\n",
       "      <th>9</th>\n",
       "      <td>11</td>\n",
       "      <td>1165</td>\n",
       "      <td>305794.84</td>\n",
       "    </tr>\n",
       "  </tbody>\n",
       "</table>\n",
       "</div>"
      ],
      "text/plain": [
       "   Authorization day  Failed transactions count  Uncleared transaction amount\n",
       "0                  2                        344                     147468.76\n",
       "1                  3                        316                     134170.90\n",
       "2                  4                        808                     233334.06\n",
       "3                  5                        869                     246702.68\n",
       "4                  6                        855                     255950.65\n",
       "5                  7                       1130                     289921.34\n",
       "6                  8                       1118                     288918.89\n",
       "7                  9                       1121                     302233.13\n",
       "8                 10                       1115                     290613.00\n",
       "9                 11                       1165                     305794.84"
      ]
     },
     "execution_count": 14,
     "metadata": {},
     "output_type": "execute_result"
    }
   ],
   "source": [
    "# Group by 'Authorization day' to calculate number of failed clearning transaction and respective monetary losses (per day)\n",
    "per_day_failure_statistics = (\n",
    "    transactions_data_cleaned[transactions_data_cleaned.Status == \"Clearing_failed\"]\n",
    "    .groupby(\"Authorization day\")\n",
    "    .agg({\"Status\": \"count\", \"Transaction amount\": \"sum\"})\n",
    ")\n",
    "\n",
    "# Reset the index to have the 'Authorization day' as a column\n",
    "per_day_failure_statistics.reset_index(inplace=True)\n",
    "\n",
    "# Rename the column Status to Count\n",
    "per_day_failure_statistics.rename(\n",
    "    columns={\n",
    "        \"Status\": \"Failed transactions count\",\n",
    "        \"Transaction amount\": \"Uncleared transaction amount\",\n",
    "    },\n",
    "    inplace=True,\n",
    ")\n",
    "\n",
    "per_day_failure_statistics"
   ]
  },
  {
   "cell_type": "markdown",
   "metadata": {},
   "source": [
    "Looking at the above numbers, it seems that the number of failed clearing transactions and sum of respective transaction amount are growing day by day. Things are getting worse here. Let's apply some visualization."
   ]
  },
  {
   "cell_type": "code",
   "execution_count": 15,
   "metadata": {},
   "outputs": [
    {
     "data": {
      "image/png": "[encoded data removed]",
      "text/plain": [
       "<Figure size 864x504 with 1 Axes>"
      ]
     },
     "metadata": {
      "needs_background": "light"
     },
     "output_type": "display_data"
    },
    {
     "data": {
      "image/png": "[encoded data removed]",
      "text/plain": [
       "<Figure size 864x504 with 1 Axes>"
      ]
     },
     "metadata": {
      "needs_background": "light"
     },
     "output_type": "display_data"
    }
   ],
   "source": [
    "# Failed transactions count per day - Bar plot\n",
    "plt.figure(figsize=(12,7))\n",
    "plt.bar(\n",
    "    per_day_failure_statistics[\"Authorization day\"],\n",
    "    per_day_failure_statistics[\"Failed transactions count\"],\n",
    ")\n",
    "plt.title(\"Failed transactions count - Bar plot\", fontweight='bold')\n",
    "plt.xlabel(\"Authorization day\", fontweight='bold')\n",
    "plt.ylabel(\"Failed transactions count\", fontweight='bold')\n",
    "plt.show()\n",
    "\n",
    "# Failed transactions count per day - Line plot\n",
    "plt.figure(figsize=(12,7))\n",
    "plt.plot(\n",
    "    per_day_failure_statistics[\"Authorization day\"],\n",
    "    per_day_failure_statistics[\"Failed transactions count\"],\n",
    "    linestyle=\"-\",\n",
    "    marker=\"o\",\n",
    ")\n",
    "plt.title(\"Failed transactions count - Line plot\", fontweight='bold')\n",
    "plt.xlabel(\"Authorization day\", fontweight='bold')\n",
    "plt.ylabel(\"Failed transactions count\", fontweight='bold')\n",
    "plt.show()"
   ]
  },
  {
   "cell_type": "code",
   "execution_count": 16,
   "metadata": {},
   "outputs": [
    {
     "data": {
      "image/png": "[encoded data removed]",
      "text/plain": [
       "<Figure size 864x504 with 1 Axes>"
      ]
     },
     "metadata": {
      "needs_background": "light"
     },
     "output_type": "display_data"
    },
    {
     "data": {
      "image/png": "[encoded data removed]",
      "text/plain": [
       "<Figure size 864x504 with 1 Axes>"
      ]
     },
     "metadata": {
      "needs_background": "light"
     },
     "output_type": "display_data"
    }
   ],
   "source": [
    "# Uncleared transaction amount per day - Bar plot\n",
    "plt.figure(figsize=(12,7))\n",
    "plt.bar(\n",
    "    per_day_failure_statistics[\"Authorization day\"],\n",
    "    per_day_failure_statistics[\"Uncleared transaction amount\"],\n",
    ")\n",
    "plt.title(\"Uncleared transaction amount - Bar plot\", fontweight='bold')\n",
    "plt.xlabel(\"Authorization day\", fontweight='bold')\n",
    "plt.ylabel(\"Uncleared transaction amount\", fontweight='bold')\n",
    "plt.show()\n",
    "\n",
    "# Uncleared transaction amount per day - Line plot\n",
    "plt.figure(figsize=(12,7))\n",
    "plt.plot(\n",
    "    per_day_failure_statistics[\"Authorization day\"],\n",
    "    per_day_failure_statistics[\"Uncleared transaction amount\"],\n",
    "    linestyle=\"-\",\n",
    "    marker=\"o\",\n",
    ")\n",
    "plt.title(\"Uncleared transaction amount - Line plot\", fontweight='bold')\n",
    "plt.xlabel(\"Authorization day\", fontweight='bold')\n",
    "plt.ylabel(\"Uncleared transaction amount\", fontweight='bold')\n",
    "plt.show()"
   ]
  },
  {
   "cell_type": "markdown",
   "metadata": {},
   "source": [
    "## Question 2: advanced slicing and dicing of your data"
   ]
  },
  {
   "cell_type": "markdown",
   "metadata": {},
   "source": [
    "With this question, we want to see:\n",
    "* what your thinking is when tackling large datasets and new problems\n",
    "* that you're able to identify and isolate root causes based on general information\n",
    "* that you don't panic when presented with relatively large amounts of new data\n",
    "* that you can formulate and test hypotheses\n",
    "\n",
    "**Please use the data provided to find all the possible reason(s) why a number of transactions are stuck on 'Clearing failed'.**\n",
    "\n",
    "This question is the most technically involved of the four. Note that there could be more reasons leading to a Clearing fail on the Not A Taxi LTD. account (however, a clearing file will generally be due to a single reason)\n",
    "\n",
    "Luckily you get a column **Error code** in your transactions.csv dataset which might help you in pinpoint the root cause. **Do take advantage of that!**\n",
    "\n",
    "You'll also need to use the **information contained in bintable.csv** to solve this question.\n",
    "\n",
    "**Present the findings in the format you prefer to the account manager** "
   ]
  },
  {
   "cell_type": "markdown",
   "metadata": {},
   "source": [
    "## <font color='blue'> Question 2: Answer </font>"
   ]
  },
  {
   "cell_type": "markdown",
   "metadata": {},
   "source": [
    "This question deals a lot with the 'Error Code'. This code might give an idea about why the clearing process failed for certain transaction. So let's see what are possible ways the clearing can fail."
   ]
  },
  {
   "cell_type": "code",
   "execution_count": 17,
   "metadata": {},
   "outputs": [
    {
     "name": "stdout",
     "output_type": "stream",
     "text": [
      "[nan 'CP_98_TX_VALUE_TOO_HIGH_FOR_CARD_SCHEME'\n",
      " 'VI_85_PROCESSING_SECURE_3DTRANSACTION_WAS_NOT_ENROLLED_BUT_USED'\n",
      " 'MKMK_41_IMPOSSIBLE_TO_PROCESS_DUAL_BRAND_FOR_CARD_PRODUCT_BRAND']\n"
     ]
    }
   ],
   "source": [
    "print(transactions_data[\"Error Code\"].unique())"
   ]
  },
  {
   "cell_type": "markdown",
   "metadata": {},
   "source": [
    "These error codes seem quite self-explanatory. For e.g.\n",
    "\n",
    "CP_98_TX_VALUE_TOO_HIGH_FOR_CARD_SCHEME --> Probably says that there is some problem when using a card to do a transaction with amount that is too high (given the card profile).\n",
    "\n",
    "VI_85_PROCESSING_SECURE_3DTRANSACTION_WAS_NOT_ENROLLED_BUT_USED --> Probably says that there is some problem when applying the 3DS authentication with the card (during payment processing), but 3DS is not enrolled for the card.\n",
    "\n",
    "MKMK_41_IMPOSSIBLE_TO_PROCESS_DUAL_BRAND_FOR_CARD_PRODUCT_BRAND --> Probably says that there is some problem when doing transaction with the card schemes that have with multiple products associated.\n",
    "\n",
    "It would be best to investigate each problem separately. So let's divide & conquer."
   ]
  },
  {
   "cell_type": "markdown",
   "metadata": {},
   "source": [
    "### <font color='blue'> Error type 1: CP_98_TX_VALUE_TOO_HIGH_FOR_CARD_SCHEME </font>"
   ]
  },
  {
   "cell_type": "markdown",
   "metadata": {},
   "source": [
    "Let's check and see the unique card schemes"
   ]
  },
  {
   "cell_type": "code",
   "execution_count": 18,
   "metadata": {},
   "outputs": [
    {
     "data": {
      "text/plain": [
       "array(['Masterkard', 'ChinaPay', 'VIZA', 'Carte Rouge'], dtype=object)"
      ]
     },
     "execution_count": 18,
     "metadata": {},
     "output_type": "execute_result"
    }
   ],
   "source": [
    "card_schemes = transactions_data[\"Processed Card Scheme\"].unique()\n",
    "card_schemes"
   ]
  },
  {
   "cell_type": "markdown",
   "metadata": {},
   "source": [
    "Let's check and see for which Card Schemes this error 'CP_98_TX_VALUE_TOO_HIGH_FOR_CARD_SCHEME' is happening the most."
   ]
  },
  {
   "cell_type": "code",
   "execution_count": 19,
   "metadata": {},
   "outputs": [
    {
     "name": "stdout",
     "output_type": "stream",
     "text": [
      "Total number of Type 1 error =  3330\n"
     ]
    },
    {
     "data": {
      "text/html": [
       "<div>\n",
       "<style scoped>\n",
       "    .dataframe tbody tr th:only-of-type {\n",
       "        vertical-align: middle;\n",
       "    }\n",
       "\n",
       "    .dataframe tbody tr th {\n",
       "        vertical-align: top;\n",
       "    }\n",
       "\n",
       "    .dataframe thead th {\n",
       "        text-align: right;\n",
       "    }\n",
       "</style>\n",
       "<table border=\"1\" class=\"dataframe\">\n",
       "  <thead>\n",
       "    <tr style=\"text-align: right;\">\n",
       "      <th></th>\n",
       "      <th>Processed Card Scheme</th>\n",
       "      <th>Type 1 Failed transactions count</th>\n",
       "    </tr>\n",
       "  </thead>\n",
       "  <tbody>\n",
       "    <tr>\n",
       "      <th>0</th>\n",
       "      <td>ChinaPay</td>\n",
       "      <td>3330</td>\n",
       "    </tr>\n",
       "  </tbody>\n",
       "</table>\n",
       "</div>"
      ],
      "text/plain": [
       "  Processed Card Scheme  Type 1 Failed transactions count\n",
       "0              ChinaPay                              3330"
      ]
     },
     "execution_count": 19,
     "metadata": {},
     "output_type": "execute_result"
    }
   ],
   "source": [
    "print(\n",
    "    \"Total number of Type 1 error = \",\n",
    "    transactions_data[\n",
    "        transactions_data[\"Error Code\"] == \"CP_98_TX_VALUE_TOO_HIGH_FOR_CARD_SCHEME\"\n",
    "    ].shape[0],\n",
    ")\n",
    "\n",
    "# Statistics of Type 1 error per card scheme\n",
    "error_1_card_scheme = (\n",
    "    transactions_data[\n",
    "        transactions_data[\"Error Code\"] == \"CP_98_TX_VALUE_TOO_HIGH_FOR_CARD_SCHEME\"\n",
    "    ]\n",
    "    .groupby(\"Processed Card Scheme\")\n",
    "    .agg({\"Status\": \"count\"})\n",
    ")\n",
    "\n",
    "# Reset the index to have the 'Processed Card Scheme' as a column\n",
    "error_1_card_scheme.reset_index(inplace=True)\n",
    "\n",
    "# Rename the column Status to Count\n",
    "error_1_card_scheme.rename(\n",
    "    columns={\"Status\": \"Type 1 Failed transactions count\"}, inplace=True\n",
    ")\n",
    "\n",
    "error_1_card_scheme"
   ]
  },
  {
   "cell_type": "markdown",
   "metadata": {},
   "source": [
    "Bammmmm. All the type 1 errors happed with Card Scheme 'ChinaPay'. Let's now dig deep on 'ChinaPay' to see the how the distribution of the 'Transaction amount' looks like for successful and failed transactions."
   ]
  },
  {
   "cell_type": "code",
   "execution_count": 20,
   "metadata": {},
   "outputs": [
    {
     "data": {
      "image/png": "[encoded data removed]",
      "text/plain": [
       "<Figure size 864x504 with 1 Axes>"
      ]
     },
     "metadata": {
      "needs_background": "light"
     },
     "output_type": "display_data"
    }
   ],
   "source": [
    "plt.figure(figsize=(12,7))\n",
    "sns.distplot(\n",
    "    transactions_data[\n",
    "        (transactions_data[\"Status\"] == \"Cleared\")\n",
    "        & (transactions_data[\"Processed Card Scheme\"] == \"ChinaPay\")\n",
    "    ][\"Transaction amount\"],\n",
    "    hist=False,\n",
    "    kde=True,\n",
    "    bins=50,\n",
    "    color=\"blue\",\n",
    "    hist_kws={\"edgecolor\": \"black\"},\n",
    "    label=\"Cleared\",\n",
    ")\n",
    "\n",
    "sns.distplot(\n",
    "    transactions_data[\n",
    "        (transactions_data[\"Error Code\"] == \"CP_98_TX_VALUE_TOO_HIGH_FOR_CARD_SCHEME\")\n",
    "        & (transactions_data[\"Processed Card Scheme\"] == \"ChinaPay\")\n",
    "    ][\"Transaction amount\"],\n",
    "    hist=False,\n",
    "    kde=True,\n",
    "    bins=50,\n",
    "    color=\"red\",\n",
    "    hist_kws={\"edgecolor\": \"black\"},\n",
    "    label=\"Failed - VALUE_TOO_HIGH\",\n",
    ")\n",
    "\n",
    "# Plot formatting\n",
    "plt.legend(title=\"Status\")\n",
    "plt.title(\"ChinaPay - Transaction amount distribution\", fontweight='bold')\n",
    "plt.xlabel(\"Transaction amount\", fontweight='bold')\n",
    "plt.ylabel(\"Transaction density\", fontweight='bold')\n",
    "plt.show()"
   ]
  },
  {
   "cell_type": "markdown",
   "metadata": {},
   "source": [
    "From the above density plot, we see that majority of the failed transaction from 'ÇhinaPay' scheme have transaction amount much higher than those of successful transactions.\n",
    "\n",
    "We can get make a comparison of median (to mitigate skewed distribution) transaction amount from successful and failed transactions."
   ]
  },
  {
   "cell_type": "code",
   "execution_count": 21,
   "metadata": {},
   "outputs": [
    {
     "name": "stdout",
     "output_type": "stream",
     "text": [
      "Median transaction amount for successful transaction =  126.43  for failed transaction =  393.4\n"
     ]
    },
    {
     "data": {
      "image/png": "[encoded data removed]",
      "text/plain": [
       "<Figure size 864x504 with 1 Axes>"
      ]
     },
     "metadata": {
      "needs_background": "light"
     },
     "output_type": "display_data"
    }
   ],
   "source": [
    "median_amount_successful = round(\n",
    "    transactions_data[\n",
    "        (transactions_data[\"Status\"] == \"Cleared\")\n",
    "        & (transactions_data[\"Processed Card Scheme\"] == \"ChinaPay\")\n",
    "    ][\"Transaction amount\"].median(),\n",
    "    2,\n",
    ")\n",
    "\n",
    "median_amount_failed = round(\n",
    "    transactions_data[\n",
    "        (transactions_data[\"Error Code\"] == \"CP_98_TX_VALUE_TOO_HIGH_FOR_CARD_SCHEME\")\n",
    "        & (transactions_data[\"Processed Card Scheme\"] == \"ChinaPay\")\n",
    "    ][\"Transaction amount\"].median(),\n",
    "    2,\n",
    ")\n",
    "\n",
    "print(\n",
    "    \"Median transaction amount for successful transaction = \",\n",
    "    median_amount_successful,\n",
    "    \" for failed transaction = \",\n",
    "    median_amount_failed,\n",
    ")\n",
    "\n",
    "status = np.arange(len((\"Successful\", \"Failed\")))\n",
    "amount = [median_amount_successful, median_amount_failed]\n",
    "\n",
    "plt.figure(figsize=(12,7))\n",
    "plt.bar(status, amount, align=\"center\", color=(\"green\", \"red\"))\n",
    "plt.xticks(status, (\"Successful\", \"Failed\"))\n",
    "plt.xlabel(\"Transaction Status\", fontweight='bold')\n",
    "plt.ylabel(\"Median Transaction Amount\", fontweight='bold')\n",
    "plt.title(\"Median Transaction Amount vs Transaction Status\")\n",
    "\n",
    "plt.show()"
   ]
  },
  {
   "cell_type": "markdown",
   "metadata": {},
   "source": [
    "Conclusion: \n",
    "* This error happened only for 'ChinaPay'.\n",
    "* This error happens when the transaction amount is much higher than the usual (or permissible) transaction amount threshold."
   ]
  },
  {
   "cell_type": "markdown",
   "metadata": {},
   "source": [
    "### <font color='blue'> Error type 2: VI_85_PROCESSING_SECURE_3DTRANSACTION_WAS_NOT_ENROLLED_BUT_USED </font>"
   ]
  },
  {
   "cell_type": "markdown",
   "metadata": {},
   "source": [
    "In order to investigate this type 2 error, we need to know whether a certain card scheme is enrolled for 3DS authentication. We have this information in the 'bintable.csv' file. So let's extract the data from this file."
   ]
  },
  {
   "cell_type": "code",
   "execution_count": 22,
   "metadata": {},
   "outputs": [
    {
     "data": {
      "text/html": [
       "<div>\n",
       "<style scoped>\n",
       "    .dataframe tbody tr th:only-of-type {\n",
       "        vertical-align: middle;\n",
       "    }\n",
       "\n",
       "    .dataframe tbody tr th {\n",
       "        vertical-align: top;\n",
       "    }\n",
       "\n",
       "    .dataframe thead th {\n",
       "        text-align: right;\n",
       "    }\n",
       "</style>\n",
       "<table border=\"1\" class=\"dataframe\">\n",
       "  <thead>\n",
       "    <tr style=\"text-align: right;\">\n",
       "      <th></th>\n",
       "      <th>BIN</th>\n",
       "      <th>Product types</th>\n",
       "      <th>Scheme</th>\n",
       "      <th>Enrolled in Secure3D</th>\n",
       "      <th>Dual Branded</th>\n",
       "    </tr>\n",
       "  </thead>\n",
       "  <tbody>\n",
       "    <tr>\n",
       "      <th>0</th>\n",
       "      <td>273209</td>\n",
       "      <td>[\"CP_Credit\"]</td>\n",
       "      <td>ChinaPay</td>\n",
       "      <td>YES</td>\n",
       "      <td>NO</td>\n",
       "    </tr>\n",
       "    <tr>\n",
       "      <th>1</th>\n",
       "      <td>457469</td>\n",
       "      <td>[\"Viza_Super\"]</td>\n",
       "      <td>VIZA</td>\n",
       "      <td>YES</td>\n",
       "      <td>NO</td>\n",
       "    </tr>\n",
       "  </tbody>\n",
       "</table>\n",
       "</div>"
      ],
      "text/plain": [
       "      BIN   Product types    Scheme Enrolled in Secure3D Dual Branded\n",
       "0  273209   [\"CP_Credit\"]  ChinaPay                  YES           NO\n",
       "1  457469  [\"Viza_Super\"]      VIZA                  YES           NO"
      ]
     },
     "execution_count": 22,
     "metadata": {},
     "output_type": "execute_result"
    }
   ],
   "source": [
    "# Read the data from the bintable file\n",
    "bin_data = pd.read_csv(\"data/bintable.csv\")\n",
    "\n",
    "# See the data frame\n",
    "bin_data.head(2)"
   ]
  },
  {
   "cell_type": "markdown",
   "metadata": {},
   "source": [
    "Let's join the bin data with the transaction data to see the transactions (on card schemes) for which 3DS authentication is not enrolled but used during the payment processing."
   ]
  },
  {
   "cell_type": "code",
   "execution_count": 23,
   "metadata": {},
   "outputs": [
    {
     "data": {
      "text/html": [
       "<div>\n",
       "<style scoped>\n",
       "    .dataframe tbody tr th:only-of-type {\n",
       "        vertical-align: middle;\n",
       "    }\n",
       "\n",
       "    .dataframe tbody tr th {\n",
       "        vertical-align: top;\n",
       "    }\n",
       "\n",
       "    .dataframe thead th {\n",
       "        text-align: right;\n",
       "    }\n",
       "</style>\n",
       "<table border=\"1\" class=\"dataframe\">\n",
       "  <thead>\n",
       "    <tr style=\"text-align: right;\">\n",
       "      <th></th>\n",
       "      <th>Transaction ID</th>\n",
       "      <th>Card Number (obfuscated)</th>\n",
       "      <th>Processed Card Scheme</th>\n",
       "      <th>Processed Card Product</th>\n",
       "      <th>Used Secure3D</th>\n",
       "      <th>Authorization time</th>\n",
       "      <th>Transaction amount</th>\n",
       "      <th>Status</th>\n",
       "      <th>Error Code</th>\n",
       "      <th>Authorization day</th>\n",
       "      <th>BIN</th>\n",
       "      <th>Product types</th>\n",
       "      <th>Enrolled in Secure3D</th>\n",
       "      <th>Dual Branded</th>\n",
       "    </tr>\n",
       "  </thead>\n",
       "  <tbody>\n",
       "    <tr>\n",
       "      <th>0</th>\n",
       "      <td>310136972</td>\n",
       "      <td>390894......5010</td>\n",
       "      <td>Masterkard</td>\n",
       "      <td>MK_Debit</td>\n",
       "      <td>NO</td>\n",
       "      <td>2019-01-01 17:16:49</td>\n",
       "      <td>192.76</td>\n",
       "      <td>Cleared</td>\n",
       "      <td>NaN</td>\n",
       "      <td>1</td>\n",
       "      <td>390894</td>\n",
       "      <td>[\"MK_Debit\"]</td>\n",
       "      <td>NO</td>\n",
       "      <td>NO</td>\n",
       "    </tr>\n",
       "    <tr>\n",
       "      <th>1</th>\n",
       "      <td>314536287</td>\n",
       "      <td>390894......1946</td>\n",
       "      <td>Masterkard</td>\n",
       "      <td>MK_Debit</td>\n",
       "      <td>YES</td>\n",
       "      <td>2019-01-06 08:40:28</td>\n",
       "      <td>516.61</td>\n",
       "      <td>Cleared</td>\n",
       "      <td>NaN</td>\n",
       "      <td>6</td>\n",
       "      <td>390894</td>\n",
       "      <td>[\"MK_Debit\"]</td>\n",
       "      <td>NO</td>\n",
       "      <td>NO</td>\n",
       "    </tr>\n",
       "  </tbody>\n",
       "</table>\n",
       "</div>"
      ],
      "text/plain": [
       "   Transaction ID Card Number (obfuscated) Processed Card Scheme  \\\n",
       "0       310136972         390894......5010            Masterkard   \n",
       "1       314536287         390894......1946            Masterkard   \n",
       "\n",
       "  Processed Card Product Used Secure3D  Authorization time  \\\n",
       "0               MK_Debit            NO 2019-01-01 17:16:49   \n",
       "1               MK_Debit           YES 2019-01-06 08:40:28   \n",
       "\n",
       "   Transaction amount   Status Error Code  Authorization day     BIN  \\\n",
       "0              192.76  Cleared        NaN                  1  390894   \n",
       "1              516.61  Cleared        NaN                  6  390894   \n",
       "\n",
       "  Product types Enrolled in Secure3D Dual Branded  \n",
       "0  [\"MK_Debit\"]                   NO           NO  \n",
       "1  [\"MK_Debit\"]                   NO           NO  "
      ]
     },
     "execution_count": 23,
     "metadata": {},
     "output_type": "execute_result"
    }
   ],
   "source": [
    "# Merge the transaction data and the BIN data\n",
    "transactions_bin_data = transactions_data.merge(\n",
    "    bin_data, how=\"inner\", left_on=\"BIN\", right_on=\"BIN\"\n",
    ")\n",
    "\n",
    "# Remove duplicate columns\n",
    "transactions_bin_data.drop([\"Scheme\"], axis=1, inplace=True)\n",
    "\n",
    "# Show the data\n",
    "transactions_bin_data.head(2)"
   ]
  },
  {
   "cell_type": "code",
   "execution_count": 24,
   "metadata": {},
   "outputs": [
    {
     "name": "stdout",
     "output_type": "stream",
     "text": [
      "Total number of Type 2 error =  4266\n"
     ]
    },
    {
     "data": {
      "text/html": [
       "<div>\n",
       "<style scoped>\n",
       "    .dataframe tbody tr th:only-of-type {\n",
       "        vertical-align: middle;\n",
       "    }\n",
       "\n",
       "    .dataframe tbody tr th {\n",
       "        vertical-align: top;\n",
       "    }\n",
       "\n",
       "    .dataframe thead th {\n",
       "        text-align: right;\n",
       "    }\n",
       "</style>\n",
       "<table border=\"1\" class=\"dataframe\">\n",
       "  <thead>\n",
       "    <tr style=\"text-align: right;\">\n",
       "      <th></th>\n",
       "      <th>Used Secure3D</th>\n",
       "      <th>Enrolled in Secure3D</th>\n",
       "      <th>Type 2 Failed transactions count</th>\n",
       "    </tr>\n",
       "  </thead>\n",
       "  <tbody>\n",
       "    <tr>\n",
       "      <th>0</th>\n",
       "      <td>YES</td>\n",
       "      <td>NO</td>\n",
       "      <td>4266</td>\n",
       "    </tr>\n",
       "  </tbody>\n",
       "</table>\n",
       "</div>"
      ],
      "text/plain": [
       "  Used Secure3D Enrolled in Secure3D  Type 2 Failed transactions count\n",
       "0           YES                   NO                              4266"
      ]
     },
     "execution_count": 24,
     "metadata": {},
     "output_type": "execute_result"
    }
   ],
   "source": [
    "print(\n",
    "    \"Total number of Type 2 error = \",\n",
    "    transactions_bin_data[\n",
    "        transactions_bin_data[\"Error Code\"]\n",
    "        == \"VI_85_PROCESSING_SECURE_3DTRANSACTION_WAS_NOT_ENROLLED_BUT_USED\"\n",
    "    ].shape[0],\n",
    ")\n",
    "\n",
    "# Statistics of Type 2 error in the context of 3DS enrollment and usage\n",
    "error_2_3DS_enroll_usage = (\n",
    "    transactions_bin_data[\n",
    "        transactions_bin_data[\"Error Code\"]\n",
    "        == \"VI_85_PROCESSING_SECURE_3DTRANSACTION_WAS_NOT_ENROLLED_BUT_USED\"\n",
    "    ]\n",
    "    .groupby([\"Used Secure3D\", \"Enrolled in Secure3D\"])\n",
    "    .agg({\"Status\": \"count\"})\n",
    ")\n",
    "\n",
    "# Reset the index to have the \"Used Secure3D\" and \"Enrolled in Secure3D\" as columns\n",
    "error_2_3DS_enroll_usage.reset_index(inplace=True)\n",
    "\n",
    "# Rename the column Status to Count\n",
    "error_2_3DS_enroll_usage.rename(\n",
    "    columns={\"Status\": \"Type 2 Failed transactions count\"}, inplace=True\n",
    ")\n",
    "\n",
    "error_2_3DS_enroll_usage"
   ]
  },
  {
   "cell_type": "markdown",
   "metadata": {},
   "source": [
    "Bammmmm. All the type 2 errors happened for cards (belonging to a particular card scheme and product), which are not enrolled for 3DS but used during payment processing. Let's now dig deep to see on which card schemes and on which card products this error happened the most."
   ]
  },
  {
   "cell_type": "code",
   "execution_count": 25,
   "metadata": {},
   "outputs": [
    {
     "data": {
      "text/html": [
       "<div>\n",
       "<style scoped>\n",
       "    .dataframe tbody tr th:only-of-type {\n",
       "        vertical-align: middle;\n",
       "    }\n",
       "\n",
       "    .dataframe tbody tr th {\n",
       "        vertical-align: top;\n",
       "    }\n",
       "\n",
       "    .dataframe thead th {\n",
       "        text-align: right;\n",
       "    }\n",
       "</style>\n",
       "<table border=\"1\" class=\"dataframe\">\n",
       "  <thead>\n",
       "    <tr style=\"text-align: right;\">\n",
       "      <th></th>\n",
       "      <th>Processed Card Scheme</th>\n",
       "      <th>Processed Card Product</th>\n",
       "      <th>Type 2 Failed transactions count</th>\n",
       "    </tr>\n",
       "  </thead>\n",
       "  <tbody>\n",
       "    <tr>\n",
       "      <th>0</th>\n",
       "      <td>VIZA</td>\n",
       "      <td>VIZA_Debit</td>\n",
       "      <td>790</td>\n",
       "    </tr>\n",
       "    <tr>\n",
       "      <th>1</th>\n",
       "      <td>VIZA</td>\n",
       "      <td>Viza_Credit</td>\n",
       "      <td>1490</td>\n",
       "    </tr>\n",
       "    <tr>\n",
       "      <th>2</th>\n",
       "      <td>VIZA</td>\n",
       "      <td>Viza_Pay</td>\n",
       "      <td>834</td>\n",
       "    </tr>\n",
       "    <tr>\n",
       "      <th>3</th>\n",
       "      <td>VIZA</td>\n",
       "      <td>Viza_Super</td>\n",
       "      <td>1152</td>\n",
       "    </tr>\n",
       "  </tbody>\n",
       "</table>\n",
       "</div>"
      ],
      "text/plain": [
       "  Processed Card Scheme Processed Card Product  \\\n",
       "0                  VIZA             VIZA_Debit   \n",
       "1                  VIZA            Viza_Credit   \n",
       "2                  VIZA               Viza_Pay   \n",
       "3                  VIZA             Viza_Super   \n",
       "\n",
       "   Type 2 Failed transactions count  \n",
       "0                               790  \n",
       "1                              1490  \n",
       "2                               834  \n",
       "3                              1152  "
      ]
     },
     "execution_count": 25,
     "metadata": {},
     "output_type": "execute_result"
    }
   ],
   "source": [
    "# Statistics of Type 2 error in the context of 3DS enrollment and usage\n",
    "error_2_3DS_card_scheme_product = (\n",
    "    transactions_bin_data[\n",
    "        transactions_bin_data[\"Error Code\"]\n",
    "        == \"VI_85_PROCESSING_SECURE_3DTRANSACTION_WAS_NOT_ENROLLED_BUT_USED\"\n",
    "    ]\n",
    "    .groupby([\"Processed Card Scheme\", \"Processed Card Product\"])\n",
    "    .agg({\"Status\": \"count\"})\n",
    ")\n",
    "\n",
    "# Reset the index to have the \"Processed Card Scheme\" and \"Processed Card Product\" as columns\n",
    "error_2_3DS_card_scheme_product.reset_index(inplace=True)\n",
    "\n",
    "# Rename the column Status to Count\n",
    "error_2_3DS_card_scheme_product.rename(\n",
    "    columns={\"Status\": \"Type 2 Failed transactions count\"}, inplace=True\n",
    ")\n",
    "\n",
    "error_2_3DS_card_scheme_product"
   ]
  },
  {
   "cell_type": "code",
   "execution_count": 26,
   "metadata": {},
   "outputs": [
    {
     "data": {
      "image/png": "[encoded data removed]",
      "text/plain": [
       "<Figure size 864x504 with 1 Axes>"
      ]
     },
     "metadata": {
      "needs_background": "light"
     },
     "output_type": "display_data"
    }
   ],
   "source": [
    "# Visualize the count through Bar plot\n",
    "plt.figure(figsize=(12,7))\n",
    "plt.bar(error_2_3DS_card_scheme_product[\"Processed Card Product\"], error_2_3DS_card_scheme_product[\"Type 2 Failed transactions count\"], color = (\"green\", \"red\", \"blue\", \"magenta\"))\n",
    "plt.xlabel(\"Processed Card Product\", fontweight='bold')\n",
    "plt.ylabel(\"Type-2 Failed Transaction Count\", fontweight='bold')\n",
    "plt.title(\"Type-2 error distribution across Card Products\")\n",
    "plt.show()"
   ]
  },
  {
   "cell_type": "markdown",
   "metadata": {},
   "source": [
    "Conclusion:\n",
    "* This error happened on all the products from the card scheme 'VIZA'.\n",
    "* This error happens when a BIN (representing a particular card scheme and card product) has not enrolled for 3DS authentication, but has used 3DS authentication while payment processing. "
   ]
  },
  {
   "cell_type": "markdown",
   "metadata": {},
   "source": [
    "### <font color='blue'> Error type 3: MKMK_41_IMPOSSIBLE_TO_PROCESS_DUAL_BRAND_FOR_CARD_PRODUCT_BRAND </font>"
   ]
  },
  {
   "cell_type": "markdown",
   "metadata": {},
   "source": [
    "To investigate this type 3 error, we have to focus on the dual branding property of the card. So let's check and confirm that this type 3 error happens only for cards (BINs) that have a dual branding property."
   ]
  },
  {
   "cell_type": "code",
   "execution_count": 27,
   "metadata": {},
   "outputs": [
    {
     "name": "stdout",
     "output_type": "stream",
     "text": [
      "Total number of Type 3 error =  1404\n"
     ]
    },
    {
     "data": {
      "text/html": [
       "<div>\n",
       "<style scoped>\n",
       "    .dataframe tbody tr th:only-of-type {\n",
       "        vertical-align: middle;\n",
       "    }\n",
       "\n",
       "    .dataframe tbody tr th {\n",
       "        vertical-align: top;\n",
       "    }\n",
       "\n",
       "    .dataframe thead th {\n",
       "        text-align: right;\n",
       "    }\n",
       "</style>\n",
       "<table border=\"1\" class=\"dataframe\">\n",
       "  <thead>\n",
       "    <tr style=\"text-align: right;\">\n",
       "      <th></th>\n",
       "      <th>Dual Branded</th>\n",
       "      <th>Type 3 Failed transactions count</th>\n",
       "    </tr>\n",
       "  </thead>\n",
       "  <tbody>\n",
       "    <tr>\n",
       "      <th>0</th>\n",
       "      <td>YES</td>\n",
       "      <td>1404</td>\n",
       "    </tr>\n",
       "  </tbody>\n",
       "</table>\n",
       "</div>"
      ],
      "text/plain": [
       "  Dual Branded  Type 3 Failed transactions count\n",
       "0          YES                              1404"
      ]
     },
     "execution_count": 27,
     "metadata": {},
     "output_type": "execute_result"
    }
   ],
   "source": [
    "print(\n",
    "    \"Total number of Type 3 error = \",\n",
    "    transactions_bin_data[\n",
    "        transactions_bin_data[\"Error Code\"]\n",
    "        == \"MKMK_41_IMPOSSIBLE_TO_PROCESS_DUAL_BRAND_FOR_CARD_PRODUCT_BRAND\"\n",
    "    ].shape[0],\n",
    ")\n",
    "\n",
    "# Statistics of Type 3 error in the context of Dual branding\n",
    "error_3_dual_branding = (\n",
    "    transactions_bin_data[\n",
    "        transactions_bin_data[\"Error Code\"]\n",
    "        == \"MKMK_41_IMPOSSIBLE_TO_PROCESS_DUAL_BRAND_FOR_CARD_PRODUCT_BRAND\"\n",
    "    ]\n",
    "    .groupby(\"Dual Branded\")\n",
    "    .agg({\"Status\": \"count\"})\n",
    ")\n",
    "\n",
    "# Reset the index to have the \"Dual Branded\" as a column\n",
    "error_3_dual_branding.reset_index(inplace=True)\n",
    "\n",
    "# Rename the column Status to Count\n",
    "error_3_dual_branding.rename(\n",
    "    columns={\"Status\": \"Type 3 Failed transactions count\"}, inplace=True\n",
    ")\n",
    "\n",
    "error_3_dual_branding"
   ]
  },
  {
   "cell_type": "markdown",
   "metadata": {},
   "source": [
    "Indeed!!!! This type 3 happened for cards corresponding to BINs that have a dual branding property associated. Let's now investigate for which card scheme and card product this error happens the most."
   ]
  },
  {
   "cell_type": "code",
   "execution_count": 28,
   "metadata": {},
   "outputs": [
    {
     "data": {
      "text/html": [
       "<div>\n",
       "<style scoped>\n",
       "    .dataframe tbody tr th:only-of-type {\n",
       "        vertical-align: middle;\n",
       "    }\n",
       "\n",
       "    .dataframe tbody tr th {\n",
       "        vertical-align: top;\n",
       "    }\n",
       "\n",
       "    .dataframe thead th {\n",
       "        text-align: right;\n",
       "    }\n",
       "</style>\n",
       "<table border=\"1\" class=\"dataframe\">\n",
       "  <thead>\n",
       "    <tr style=\"text-align: right;\">\n",
       "      <th></th>\n",
       "      <th>Processed Card Scheme</th>\n",
       "      <th>Processed Card Product</th>\n",
       "      <th>Type 3 Failed transactions count</th>\n",
       "    </tr>\n",
       "  </thead>\n",
       "  <tbody>\n",
       "    <tr>\n",
       "      <th>0</th>\n",
       "      <td>Masterkard</td>\n",
       "      <td>Mastro</td>\n",
       "      <td>1404</td>\n",
       "    </tr>\n",
       "  </tbody>\n",
       "</table>\n",
       "</div>"
      ],
      "text/plain": [
       "  Processed Card Scheme Processed Card Product  \\\n",
       "0            Masterkard                 Mastro   \n",
       "\n",
       "   Type 3 Failed transactions count  \n",
       "0                              1404  "
      ]
     },
     "execution_count": 28,
     "metadata": {},
     "output_type": "execute_result"
    }
   ],
   "source": [
    "# Statistics of Type 3 error in the context of Card scheme and card product\n",
    "error_3_card_scheme_product = (\n",
    "    transactions_bin_data[\n",
    "        transactions_bin_data[\"Error Code\"]\n",
    "        == \"MKMK_41_IMPOSSIBLE_TO_PROCESS_DUAL_BRAND_FOR_CARD_PRODUCT_BRAND\"\n",
    "    ]\n",
    "    .groupby([\"Processed Card Scheme\", \"Processed Card Product\"])\n",
    "    .agg({\"Status\": \"count\"})\n",
    ")\n",
    "\n",
    "# Reset the index to have the \"Dual Branded\" as a column\n",
    "error_3_card_scheme_product.reset_index(inplace=True)\n",
    "\n",
    "# Rename the column Status to Count\n",
    "error_3_card_scheme_product.rename(\n",
    "    columns={\"Status\": \"Type 3 Failed transactions count\"}, inplace=True\n",
    ")\n",
    "\n",
    "error_3_card_scheme_product"
   ]
  },
  {
   "cell_type": "markdown",
   "metadata": {},
   "source": [
    "Bammmm!!! This type 3 error happened on card scheme 'Masterkard' and product 'Mastro'. Let's look at the associated BINs and associated dual branding card product."
   ]
  },
  {
   "cell_type": "code",
   "execution_count": 29,
   "metadata": {},
   "outputs": [
    {
     "data": {
      "text/html": [
       "<div>\n",
       "<style scoped>\n",
       "    .dataframe tbody tr th:only-of-type {\n",
       "        vertical-align: middle;\n",
       "    }\n",
       "\n",
       "    .dataframe tbody tr th {\n",
       "        vertical-align: top;\n",
       "    }\n",
       "\n",
       "    .dataframe thead th {\n",
       "        text-align: right;\n",
       "    }\n",
       "</style>\n",
       "<table border=\"1\" class=\"dataframe\">\n",
       "  <thead>\n",
       "    <tr style=\"text-align: right;\">\n",
       "      <th></th>\n",
       "      <th>Product types</th>\n",
       "      <th>Type 3 Failed transactions count</th>\n",
       "    </tr>\n",
       "  </thead>\n",
       "  <tbody>\n",
       "    <tr>\n",
       "      <th>0</th>\n",
       "      <td>[\"MK_Credit\", \"Mastro\"]</td>\n",
       "      <td>233</td>\n",
       "    </tr>\n",
       "    <tr>\n",
       "      <th>1</th>\n",
       "      <td>[\"MK_Debit\", \"Mastro\"]</td>\n",
       "      <td>228</td>\n",
       "    </tr>\n",
       "    <tr>\n",
       "      <th>2</th>\n",
       "      <td>[\"MK_Student\", \"Mastro\"]</td>\n",
       "      <td>120</td>\n",
       "    </tr>\n",
       "    <tr>\n",
       "      <th>3</th>\n",
       "      <td>[\"Mastro\", \"MK_Credit\"]</td>\n",
       "      <td>210</td>\n",
       "    </tr>\n",
       "    <tr>\n",
       "      <th>4</th>\n",
       "      <td>[\"Mastro\", \"MK_Debit\"]</td>\n",
       "      <td>335</td>\n",
       "    </tr>\n",
       "    <tr>\n",
       "      <th>5</th>\n",
       "      <td>[\"Mastro\", \"MK_Student\"]</td>\n",
       "      <td>278</td>\n",
       "    </tr>\n",
       "  </tbody>\n",
       "</table>\n",
       "</div>"
      ],
      "text/plain": [
       "              Product types  Type 3 Failed transactions count\n",
       "0   [\"MK_Credit\", \"Mastro\"]                               233\n",
       "1    [\"MK_Debit\", \"Mastro\"]                               228\n",
       "2  [\"MK_Student\", \"Mastro\"]                               120\n",
       "3   [\"Mastro\", \"MK_Credit\"]                               210\n",
       "4    [\"Mastro\", \"MK_Debit\"]                               335\n",
       "5  [\"Mastro\", \"MK_Student\"]                               278"
      ]
     },
     "execution_count": 29,
     "metadata": {},
     "output_type": "execute_result"
    }
   ],
   "source": [
    "# Statistics of Type 3 error in the context of multiple card products\n",
    "error_3_card_products = (\n",
    "    transactions_bin_data[\n",
    "        transactions_bin_data[\"Error Code\"]\n",
    "        == \"MKMK_41_IMPOSSIBLE_TO_PROCESS_DUAL_BRAND_FOR_CARD_PRODUCT_BRAND\"\n",
    "    ]\n",
    "    .groupby(\"Product types\")\n",
    "    .agg({\"Status\": \"count\"})\n",
    ")\n",
    "\n",
    "# Reset the index to have the \"Dual Branded\" as a column\n",
    "error_3_card_products.reset_index(inplace=True)\n",
    "\n",
    "# Rename the column Status to Count\n",
    "error_3_card_products.rename(\n",
    "    columns={\"Status\": \"Type 3 Failed transactions count\"}, inplace=True\n",
    ")\n",
    "\n",
    "error_3_card_products"
   ]
  },
  {
   "cell_type": "code",
   "execution_count": 30,
   "metadata": {},
   "outputs": [
    {
     "data": {
      "image/png": "[encoded data removed]",
      "text/plain": [
       "<Figure size 864x504 with 1 Axes>"
      ]
     },
     "metadata": {
      "needs_background": "light"
     },
     "output_type": "display_data"
    }
   ],
   "source": [
    "product_type_combinations = [\"MK_Credit_Mastro\", \"MK_Debit_Mastro\", \"MK_Student_Mastro\"]\n",
    "type3_failed_transactions_count = [233+210, 228+335, 120+278]\n",
    "\n",
    "# Visualize the count through Bar plot\n",
    "plt.figure(figsize=(12,7))\n",
    "plt.bar(product_type_combinations, type3_failed_transactions_count, align=\"center\", color = (\"magenta\", \"red\", \"green\"))\n",
    "plt.xlabel(\"Product Types\", fontweight='bold')\n",
    "plt.ylabel(\"Type-3 Failed Transaction Count\", fontweight='bold')\n",
    "plt.title(\"Type-3 error distribution across Card Products\", fontweight='bold')\n",
    "plt.show()"
   ]
  },
  {
   "cell_type": "code",
   "execution_count": 31,
   "metadata": {},
   "outputs": [
    {
     "data": {
      "text/html": [
       "<div>\n",
       "<style scoped>\n",
       "    .dataframe tbody tr th:only-of-type {\n",
       "        vertical-align: middle;\n",
       "    }\n",
       "\n",
       "    .dataframe tbody tr th {\n",
       "        vertical-align: top;\n",
       "    }\n",
       "\n",
       "    .dataframe thead th {\n",
       "        text-align: right;\n",
       "    }\n",
       "</style>\n",
       "<table border=\"1\" class=\"dataframe\">\n",
       "  <thead>\n",
       "    <tr style=\"text-align: right;\">\n",
       "      <th></th>\n",
       "      <th>Enrolled in Secure3D</th>\n",
       "      <th>Type 3 Failed transactions count</th>\n",
       "    </tr>\n",
       "  </thead>\n",
       "  <tbody>\n",
       "    <tr>\n",
       "      <th>0</th>\n",
       "      <td>NO</td>\n",
       "      <td>1404</td>\n",
       "    </tr>\n",
       "  </tbody>\n",
       "</table>\n",
       "</div>"
      ],
      "text/plain": [
       "  Enrolled in Secure3D  Type 3 Failed transactions count\n",
       "0                   NO                              1404"
      ]
     },
     "execution_count": 31,
     "metadata": {},
     "output_type": "execute_result"
    }
   ],
   "source": [
    "# Statistics of Type 3 error in the context of 3DS\n",
    "error_3_3DS = transactions_bin_data[transactions_bin_data[\"Error Code\"] == \"MKMK_41_IMPOSSIBLE_TO_PROCESS_DUAL_BRAND_FOR_CARD_PRODUCT_BRAND\"].groupby(\"Enrolled in Secure3D\").agg({\"Status\": \"count\"})\n",
    "\n",
    "# Reset the index to have the \"Enrolled in Secure3D\" as a column\n",
    "error_3_3DS.reset_index(inplace=True)\n",
    "\n",
    "# Rename the column Status to Count\n",
    "error_3_3DS.rename(columns={\"Status\": \"Type 3 Failed transactions count\"}, inplace=True)\n",
    "\n",
    "error_3_3DS"
   ]
  },
  {
   "cell_type": "markdown",
   "metadata": {},
   "source": [
    "Conclusion:\n",
    "* This error only happened on the cards (corresponding to BINs) that have dual branding property associated.\n",
    "* This error only happened on card scheme 'Masterkard' for the product 'Mastro'. This product 'Mastro' can be associated with 'MK_Credit', 'MK_Debit' and 'MK_Student' products in a specific BIN.\n",
    "* This error only happened on card products that are not enrolled for 3DS."
   ]
  },
  {
   "cell_type": "markdown",
   "metadata": {},
   "source": [
    "# A great opportunity\n",
    "\n",
    "You have now solved the problem for 'Not A Taxi LTD' so brilliantly, that word got out that MyPSP is the best company in class when providing solutions to taxi companies.\n",
    "\n",
    "Taxily, a new taxi prospect, has approached our sales team with a question about how much it would cost them to move from our current provider to MyPSP's proposition.\n",
    "\n",
    "You have downloaded 'rates.csv' from our server, which provides a sample of transactions over a short period.\n",
    "\n",
    "The bottom line is that a certain percentage of any card transaction is paid out to the Schemes and the Issuing banks (this is a very complicated system, but let's keep it simple for now). This is the **rate**. \n",
    "\n",
    "For instance, let's say you took a taxi from Amsterdam to Eindhoven airport, and you paid 100 EUR for the ride. Depending on the card you used, your rate could be anything between 0.20% and 4% of the transaction amount: that means that between 0.20 and 4 EUR of that 100 EUR ride are paid out to your bank and the Card Scheme, instead of to the taxi company.\n",
    "\n",
    "Obviously, our customers want to estimate and reduce this cost as much as possible, which is where you come in."
   ]
  },
  {
   "cell_type": "markdown",
   "metadata": {},
   "source": [
    "## Question 3: estimation"
   ]
  },
  {
   "cell_type": "markdown",
   "metadata": {},
   "source": [
    "With this question we want to see:\n",
    "\n",
    "* If you're able to quickly estimate aggregate numbers from raw data\n",
    "* If you can apply basic concepts to obtain ballpark estimates.\n",
    "\n",
    "You receive the following e-mail from the Sales Manager\n",
    "\n",
    "```\n",
    "Hey man, \n",
    "Taxily, our new potential customer, processed 94843723 EUR in rides last month.\n",
    "\n",
    "They have told me:\n",
    "- that 40% of their traffic is on VIZA cards\n",
    "- they also have 35% of traffic on Masterkard cards\n",
    "- finally, they have 25 % of traffic on ChinaPay\n",
    "\n",
    "They don't accept special products such as VIZA PAY or Mastro yet. They only accept debit and credit products from Masterkard, VIZA and ChinaPay, as follows:\n",
    "- 60% of their traffic is on debit cards\n",
    "- 40% of their traffic is on credit cards\n",
    "\n",
    "In their current solution (our competitors!), they pay 3% flat per transaction. So they spend 2.845.311,69 EUR a month currently. \n",
    "\n",
    "How much could they save by moving to MyPSP?\n",
    "```\n",
    "\n",
    "**Please answer with a short e-mail to the Sales Manager**\n",
    "\n",
    "You can find a list of average rates per product in the rates.csv database, which will help with your estimation.\n",
    "\n",
    "Please remember the average rate is espressed as **Rate percent**, hence, a 0,50 rate is actually 0,50%, or 50 BPS!\n",
    "Applying a 0,50 rate percent on a 100 EUR transaction would, for instance, give a **Rate amount** of ```100*0,01*0,50 = 0,5```\n"
   ]
  },
  {
   "cell_type": "markdown",
   "metadata": {},
   "source": [
    "## <font color='blue'> Question 3: Answer </font>"
   ]
  },
  {
   "cell_type": "markdown",
   "metadata": {},
   "source": [
    "To answer this, we need rates data that is present in 'rates.csv' file. Let's extract data from that file."
   ]
  },
  {
   "cell_type": "code",
   "execution_count": 32,
   "metadata": {},
   "outputs": [
    {
     "data": {
      "text/html": [
       "<div>\n",
       "<style scoped>\n",
       "    .dataframe tbody tr th:only-of-type {\n",
       "        vertical-align: middle;\n",
       "    }\n",
       "\n",
       "    .dataframe tbody tr th {\n",
       "        vertical-align: top;\n",
       "    }\n",
       "\n",
       "    .dataframe thead th {\n",
       "        text-align: right;\n",
       "    }\n",
       "</style>\n",
       "<table border=\"1\" class=\"dataframe\">\n",
       "  <thead>\n",
       "    <tr style=\"text-align: right;\">\n",
       "      <th></th>\n",
       "      <th>Processed Card Product</th>\n",
       "      <th>Processed Card Scheme</th>\n",
       "      <th>Transaction amount</th>\n",
       "      <th>Rate percent</th>\n",
       "      <th>Rate amount</th>\n",
       "    </tr>\n",
       "  </thead>\n",
       "  <tbody>\n",
       "    <tr>\n",
       "      <th>0</th>\n",
       "      <td>MK_Debit</td>\n",
       "      <td>Masterkard</td>\n",
       "      <td>451.68</td>\n",
       "      <td>0.5</td>\n",
       "      <td>2.3</td>\n",
       "    </tr>\n",
       "    <tr>\n",
       "      <th>1</th>\n",
       "      <td>Carte_Rouge_Unique</td>\n",
       "      <td>Carte Rouge</td>\n",
       "      <td>375.70</td>\n",
       "      <td>0.9</td>\n",
       "      <td>3.4</td>\n",
       "    </tr>\n",
       "  </tbody>\n",
       "</table>\n",
       "</div>"
      ],
      "text/plain": [
       "  Processed Card Product Processed Card Scheme  Transaction amount  \\\n",
       "0               MK_Debit            Masterkard              451.68   \n",
       "1     Carte_Rouge_Unique           Carte Rouge              375.70   \n",
       "\n",
       "   Rate percent  Rate amount  \n",
       "0           0.5          2.3  \n",
       "1           0.9          3.4  "
      ]
     },
     "execution_count": 32,
     "metadata": {},
     "output_type": "execute_result"
    }
   ],
   "source": [
    "# Read the data from the rates file\n",
    "rates_data = pd.read_csv(\"data/rates.csv\")\n",
    "\n",
    "# See the data frame\n",
    "rates_data.head(2)"
   ]
  },
  {
   "cell_type": "markdown",
   "metadata": {},
   "source": [
    "We understood that 'Taxily', the future prospect is currently paying flat 3% of its transaction fees as commission to card schemes and issuing banks. This is irrespective of the card scheme or even card product used during the payment.\n",
    "\n",
    "However, that's not the case with MyPSP. MyPSP charges different rates for different card schemes and even for different card products. Even sometime rates can differ for a particular card product (e.g. \"MK_Debit\") depending on various factors.\n",
    "\n",
    "So to make things simple but still maintaining higher granularity, let's see what is the average rates for different card schemes and card products.\n",
    "\n",
    "As 'Taxily' only gets traffic from card schemes ('VIZA', 'Masterkard' and 'ChinaPay'), and card products that are only 'Debit' and 'Credit' card, we will only take such schemes and products into consideration."
   ]
  },
  {
   "cell_type": "code",
   "execution_count": 33,
   "metadata": {},
   "outputs": [
    {
     "data": {
      "text/html": [
       "<div>\n",
       "<style scoped>\n",
       "    .dataframe tbody tr th:only-of-type {\n",
       "        vertical-align: middle;\n",
       "    }\n",
       "\n",
       "    .dataframe tbody tr th {\n",
       "        vertical-align: top;\n",
       "    }\n",
       "\n",
       "    .dataframe thead th {\n",
       "        text-align: right;\n",
       "    }\n",
       "</style>\n",
       "<table border=\"1\" class=\"dataframe\">\n",
       "  <thead>\n",
       "    <tr style=\"text-align: right;\">\n",
       "      <th></th>\n",
       "      <th>Processed Card Product</th>\n",
       "      <th>Processed Card Scheme</th>\n",
       "      <th>Transaction amount</th>\n",
       "      <th>Rate percent</th>\n",
       "      <th>Rate amount</th>\n",
       "    </tr>\n",
       "  </thead>\n",
       "  <tbody>\n",
       "    <tr>\n",
       "      <th>0</th>\n",
       "      <td>MK_Debit</td>\n",
       "      <td>Masterkard</td>\n",
       "      <td>451.68</td>\n",
       "      <td>0.5</td>\n",
       "      <td>2.3</td>\n",
       "    </tr>\n",
       "    <tr>\n",
       "      <th>5</th>\n",
       "      <td>MK_Credit</td>\n",
       "      <td>Masterkard</td>\n",
       "      <td>202.72</td>\n",
       "      <td>1.5</td>\n",
       "      <td>3.0</td>\n",
       "    </tr>\n",
       "  </tbody>\n",
       "</table>\n",
       "</div>"
      ],
      "text/plain": [
       "  Processed Card Product Processed Card Scheme  Transaction amount  \\\n",
       "0               MK_Debit            Masterkard              451.68   \n",
       "5              MK_Credit            Masterkard              202.72   \n",
       "\n",
       "   Rate percent  Rate amount  \n",
       "0           0.5          2.3  \n",
       "5           1.5          3.0  "
      ]
     },
     "execution_count": 33,
     "metadata": {},
     "output_type": "execute_result"
    }
   ],
   "source": [
    "applicable_rates_data = rates_data[\n",
    "    (rates_data[\"Processed Card Scheme\"].isin([\"Masterkard\", \"ChinaPay\", \"VIZA\"]))\n",
    "    & (\n",
    "        rates_data[\"Processed Card Product\"].isin(\n",
    "            [\n",
    "                \"MK_Debit\",\n",
    "                \"MK_Credit\",\n",
    "                \"CP_Debit\",\n",
    "                \"CP_Credit\",\n",
    "                \"VIZA_Debit\",\n",
    "                \"Viza_Credit\",\n",
    "            ]\n",
    "        )\n",
    "    )\n",
    "]\n",
    "\n",
    "applicable_rates_data.head(2)"
   ]
  },
  {
   "cell_type": "markdown",
   "metadata": {},
   "source": [
    "Now let's calculate the average rates for the appropriate card products (Most granular entity)."
   ]
  },
  {
   "cell_type": "code",
   "execution_count": 34,
   "metadata": {},
   "outputs": [
    {
     "data": {
      "text/html": [
       "<div>\n",
       "<style scoped>\n",
       "    .dataframe tbody tr th:only-of-type {\n",
       "        vertical-align: middle;\n",
       "    }\n",
       "\n",
       "    .dataframe tbody tr th {\n",
       "        vertical-align: top;\n",
       "    }\n",
       "\n",
       "    .dataframe thead th {\n",
       "        text-align: right;\n",
       "    }\n",
       "</style>\n",
       "<table border=\"1\" class=\"dataframe\">\n",
       "  <thead>\n",
       "    <tr style=\"text-align: right;\">\n",
       "      <th></th>\n",
       "      <th>Processed Card Product</th>\n",
       "      <th>Mean Rate percent</th>\n",
       "    </tr>\n",
       "  </thead>\n",
       "  <tbody>\n",
       "    <tr>\n",
       "      <th>0</th>\n",
       "      <td>CP_Credit</td>\n",
       "      <td>1.298111</td>\n",
       "    </tr>\n",
       "    <tr>\n",
       "      <th>1</th>\n",
       "      <td>CP_Debit</td>\n",
       "      <td>0.522029</td>\n",
       "    </tr>\n",
       "    <tr>\n",
       "      <th>2</th>\n",
       "      <td>MK_Credit</td>\n",
       "      <td>1.364686</td>\n",
       "    </tr>\n",
       "    <tr>\n",
       "      <th>3</th>\n",
       "      <td>MK_Debit</td>\n",
       "      <td>0.451272</td>\n",
       "    </tr>\n",
       "    <tr>\n",
       "      <th>4</th>\n",
       "      <td>VIZA_Debit</td>\n",
       "      <td>0.699070</td>\n",
       "    </tr>\n",
       "    <tr>\n",
       "      <th>5</th>\n",
       "      <td>Viza_Credit</td>\n",
       "      <td>0.928691</td>\n",
       "    </tr>\n",
       "  </tbody>\n",
       "</table>\n",
       "</div>"
      ],
      "text/plain": [
       "  Processed Card Product  Mean Rate percent\n",
       "0              CP_Credit           1.298111\n",
       "1               CP_Debit           0.522029\n",
       "2              MK_Credit           1.364686\n",
       "3               MK_Debit           0.451272\n",
       "4             VIZA_Debit           0.699070\n",
       "5            Viza_Credit           0.928691"
      ]
     },
     "execution_count": 34,
     "metadata": {},
     "output_type": "execute_result"
    }
   ],
   "source": [
    "# Statistics of average rates for various card products\n",
    "rates_card_products = applicable_rates_data.groupby([\"Processed Card Product\"]).agg(\n",
    "    {\"Rate percent\": \"mean\"}\n",
    ")\n",
    "\n",
    "# Reset the index to have the \"Processed Card Product\" as a column\n",
    "rates_card_products.reset_index(inplace=True)\n",
    "\n",
    "# Rename the column 'Rate percent' to 'Mean Rate percent'\n",
    "rates_card_products.rename(columns={\"Rate percent\": \"Mean Rate percent\"}, inplace=True)\n",
    "\n",
    "rates_card_products"
   ]
  },
  {
   "cell_type": "code",
   "execution_count": 35,
   "metadata": {},
   "outputs": [
    {
     "name": "stdout",
     "output_type": "stream",
     "text": [
      "Approximate processing fee that mypsp can charge (euros) =  768524.35\n",
      "Approximate saving that Taxily can make by moving to mypsp (euros) =  2076787.34\n"
     ]
    }
   ],
   "source": [
    "card_products = rates_card_products[\"Processed Card Product\"].unique()\n",
    "total_processed_amount = 94843723\n",
    "prev_total_processing_fee = 2845311.69\n",
    "prev_flat_rate = 3\n",
    "prev_processing_fee_card_product_list = []\n",
    "mypsp_total_processing_fee = 0\n",
    "mypsp_processing_fee_card_product_list = []\n",
    "mypsp_saving_percent_card_product_list = []\n",
    "\n",
    "for card_product in card_products:\n",
    "    # traffic distribution based on credit and debit card\n",
    "    if \"Credit\" in card_product:\n",
    "        percentage_traffic = 0.4\n",
    "    else:\n",
    "        percentage_traffic = 0.6\n",
    "\n",
    "    # further traffic distribution based on VIZA, Masterkard and ChinaPay\n",
    "    if \"CP\" in card_product:\n",
    "        percentage_traffic = percentage_traffic * 0.25\n",
    "    elif \"MK\" in card_product:\n",
    "        percentage_traffic = percentage_traffic * 0.35\n",
    "    else:\n",
    "        percentage_traffic = percentage_traffic * 0.40\n",
    "\n",
    "    # Net percentage traffic per card product\n",
    "    percentage_traffic = round(percentage_traffic, 2)\n",
    "    \n",
    "    # mypsp averate rate per card product\n",
    "    mypsp_rate = rates_card_products[\n",
    "        rates_card_products[\"Processed Card Product\"] == card_product\n",
    "    ][\"Mean Rate percent\"].values[0]\n",
    "\n",
    "    # Prev processing fee per card product based on flat commission rate\n",
    "    prev_processing_fee_card_product = round(total_processed_amount * percentage_traffic * prev_flat_rate / 100, 2)\n",
    "    \n",
    "    # Add the prev processing few per card product to the list\n",
    "    prev_processing_fee_card_product_list.append(prev_processing_fee_card_product)\n",
    "    \n",
    "    # mypsp processing fee per card product\n",
    "    mypsp_processing_fee_card_product = round(total_processed_amount * percentage_traffic * mypsp_rate / 100, 2)\n",
    "    \n",
    "    # What percentage of prev processing fee mypsp is now saving\n",
    "    mypsp_saving_percent_card_product_list.append(round((prev_processing_fee_card_product - mypsp_processing_fee_card_product)/prev_processing_fee_card_product * 100, 1))\n",
    "    \n",
    "    # Add the mypsp processing few per card product to the list\n",
    "    mypsp_processing_fee_card_product_list.append(mypsp_processing_fee_card_product)\n",
    "    \n",
    "    # mypsp total processing fee\n",
    "    mypsp_total_processing_fee = round(\n",
    "        mypsp_total_processing_fee + mypsp_processing_fee_card_product, 2\n",
    "    )\n",
    "\n",
    "print(\n",
    "    \"Approximate processing fee that mypsp can charge (euros) = \", mypsp_total_processing_fee\n",
    ")\n",
    "print(\n",
    "    \"Approximate saving that Taxily can make by moving to mypsp (euros) = \",\n",
    "    round(prev_total_processing_fee - mypsp_total_processing_fee, 2),\n",
    ")"
   ]
  },
  {
   "cell_type": "code",
   "execution_count": 36,
   "metadata": {},
   "outputs": [
    {
     "data": {
      "image/png": "[encoded data removed]",
      "text/plain": [
       "<Figure size 864x504 with 1 Axes>"
      ]
     },
     "metadata": {
      "needs_background": "light"
     },
     "output_type": "display_data"
    }
   ],
   "source": [
    "# Visualize the processing fees through Bar plot\n",
    "plt.figure(figsize=(12,7))\n",
    "plt.bar([\"Competitor\", \"mypsp\"], [prev_total_processing_fee, mypsp_total_processing_fee], color = (\"red\", \"green\"))\n",
    "plt.xlabel(\"Organization\", fontweight='bold')\n",
    "plt.ylabel(\"Total processing fees\", fontweight='bold')\n",
    "plt.title(\"Processing fees comparison\")\n",
    "plt.show()"
   ]
  },
  {
   "cell_type": "code",
   "execution_count": 37,
   "metadata": {},
   "outputs": [
    {
     "data": {
      "image/png": "[encoded data removed]",
      "text/plain": [
       "<Figure size 864x504 with 1 Axes>"
      ]
     },
     "metadata": {
      "needs_background": "light"
     },
     "output_type": "display_data"
    }
   ],
   "source": [
    "plt.figure(figsize=(12,7))\n",
    "\n",
    "# set width of bar\n",
    "barWidth = 0.25\n",
    " \n",
    "# Set position of bar on X axis\n",
    "r1 = np.arange(len(prev_processing_fee_card_product_list))\n",
    "r2 = [x + barWidth for x in r1]\n",
    " \n",
    "# Make the plot\n",
    "plt.bar(r1, prev_processing_fee_card_product_list, color=\"red\", width=barWidth, label='Competitor processing fee')\n",
    "plt.bar(r2, mypsp_processing_fee_card_product_list, color=\"green\", width=barWidth, label='mypsp processing fee')\n",
    " \n",
    "# Add xticks on the middle of the group bars\n",
    "plt.xlabel('Card Products', fontweight='bold')\n",
    "plt.ylabel('Processing fee', fontweight='bold')\n",
    "plt.title(\"Processing fee comparison\", fontweight='bold')\n",
    "plt.xticks([r + barWidth for r in range(len(card_products))], card_products)\n",
    " \n",
    "# Create legend & Show graphic\n",
    "plt.legend(loc = \"upper right\")\n",
    "plt.show()"
   ]
  },
  {
   "cell_type": "markdown",
   "metadata": {},
   "source": [
    "## Question 4: product"
   ]
  },
  {
   "cell_type": "markdown",
   "metadata": {},
   "source": [
    "Based on what you've learned so far, come up with the next project My_PSP should build.\n",
    "\n",
    "Make sure to include:\n",
    "* A revenue estimate\n",
    "* Why it's relevant\n",
    "* Initial specification of which stages/how we're going to tackle this, keep in mind dev resources are not relevant.\n",
    "\n",
    "There's no right or wrong answer. Surprise me!"
   ]
  }
 ],
 "metadata": {
  "kernelspec": {
   "display_name": "Python 3",
   "language": "python",
   "name": "python3"
  },
  "language_info": {
   "codemirror_mode": {
    "name": "ipython",
    "version": 3
   },
   "file_extension": ".py",
   "mimetype": "text/x-python",
   "name": "python",
   "nbconvert_exporter": "python",
   "pygments_lexer": "ipython3",
   "version": "3.7.3"
  }
 },
 "nbformat": 4,
 "nbformat_minor": 2
}
